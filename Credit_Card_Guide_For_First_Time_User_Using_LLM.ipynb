{
  "nbformat": 4,
  "nbformat_minor": 0,
  "metadata": {
    "colab": {
      "provenance": []
    },
    "kernelspec": {
      "name": "python3",
      "display_name": "Python 3"
    },
    "language_info": {
      "name": "python"
    }
  },
  "cells": [
    {
      "cell_type": "markdown",
      "source": [
        "These brochure credit card product pdf i got from google search engine"
      ],
      "metadata": {
        "id": "h3lFn_Ei5dC1"
      }
    },
    {
      "cell_type": "code",
      "execution_count": 1,
      "metadata": {
        "colab": {
          "base_uri": "https://localhost:8080/"
        },
        "id": "UAJKIRiV4idC",
        "outputId": "5f2fc61f-d59a-4aa4-c219-00e5896da58a"
      },
      "outputs": [
        {
          "output_type": "stream",
          "name": "stdout",
          "text": [
            "Collecting langchain-community\n",
            "  Downloading langchain_community-0.3.7-py3-none-any.whl.metadata (2.9 kB)\n",
            "Requirement already satisfied: PyYAML>=5.3 in /usr/local/lib/python3.10/dist-packages (from langchain-community) (6.0.2)\n",
            "Collecting SQLAlchemy<2.0.36,>=1.4 (from langchain-community)\n",
            "  Downloading SQLAlchemy-2.0.35-cp310-cp310-manylinux_2_17_x86_64.manylinux2014_x86_64.whl.metadata (9.6 kB)\n",
            "Requirement already satisfied: aiohttp<4.0.0,>=3.8.3 in /usr/local/lib/python3.10/dist-packages (from langchain-community) (3.10.10)\n",
            "Collecting dataclasses-json<0.7,>=0.5.7 (from langchain-community)\n",
            "  Downloading dataclasses_json-0.6.7-py3-none-any.whl.metadata (25 kB)\n",
            "Collecting httpx-sse<0.5.0,>=0.4.0 (from langchain-community)\n",
            "  Downloading httpx_sse-0.4.0-py3-none-any.whl.metadata (9.0 kB)\n",
            "Requirement already satisfied: langchain<0.4.0,>=0.3.7 in /usr/local/lib/python3.10/dist-packages (from langchain-community) (0.3.7)\n",
            "Requirement already satisfied: langchain-core<0.4.0,>=0.3.17 in /usr/local/lib/python3.10/dist-packages (from langchain-community) (0.3.17)\n",
            "Requirement already satisfied: langsmith<0.2.0,>=0.1.125 in /usr/local/lib/python3.10/dist-packages (from langchain-community) (0.1.142)\n",
            "Requirement already satisfied: numpy<2,>=1 in /usr/local/lib/python3.10/dist-packages (from langchain-community) (1.26.4)\n",
            "Collecting pydantic-settings<3.0.0,>=2.4.0 (from langchain-community)\n",
            "  Downloading pydantic_settings-2.6.1-py3-none-any.whl.metadata (3.5 kB)\n",
            "Requirement already satisfied: requests<3,>=2 in /usr/local/lib/python3.10/dist-packages (from langchain-community) (2.32.3)\n",
            "Requirement already satisfied: tenacity!=8.4.0,<10,>=8.1.0 in /usr/local/lib/python3.10/dist-packages (from langchain-community) (9.0.0)\n",
            "Requirement already satisfied: aiohappyeyeballs>=2.3.0 in /usr/local/lib/python3.10/dist-packages (from aiohttp<4.0.0,>=3.8.3->langchain-community) (2.4.3)\n",
            "Requirement already satisfied: aiosignal>=1.1.2 in /usr/local/lib/python3.10/dist-packages (from aiohttp<4.0.0,>=3.8.3->langchain-community) (1.3.1)\n",
            "Requirement already satisfied: attrs>=17.3.0 in /usr/local/lib/python3.10/dist-packages (from aiohttp<4.0.0,>=3.8.3->langchain-community) (24.2.0)\n",
            "Requirement already satisfied: frozenlist>=1.1.1 in /usr/local/lib/python3.10/dist-packages (from aiohttp<4.0.0,>=3.8.3->langchain-community) (1.5.0)\n",
            "Requirement already satisfied: multidict<7.0,>=4.5 in /usr/local/lib/python3.10/dist-packages (from aiohttp<4.0.0,>=3.8.3->langchain-community) (6.1.0)\n",
            "Requirement already satisfied: yarl<2.0,>=1.12.0 in /usr/local/lib/python3.10/dist-packages (from aiohttp<4.0.0,>=3.8.3->langchain-community) (1.17.1)\n",
            "Requirement already satisfied: async-timeout<5.0,>=4.0 in /usr/local/lib/python3.10/dist-packages (from aiohttp<4.0.0,>=3.8.3->langchain-community) (4.0.3)\n",
            "Collecting marshmallow<4.0.0,>=3.18.0 (from dataclasses-json<0.7,>=0.5.7->langchain-community)\n",
            "  Downloading marshmallow-3.23.1-py3-none-any.whl.metadata (7.5 kB)\n",
            "Collecting typing-inspect<1,>=0.4.0 (from dataclasses-json<0.7,>=0.5.7->langchain-community)\n",
            "  Downloading typing_inspect-0.9.0-py3-none-any.whl.metadata (1.5 kB)\n",
            "Requirement already satisfied: langchain-text-splitters<0.4.0,>=0.3.0 in /usr/local/lib/python3.10/dist-packages (from langchain<0.4.0,>=0.3.7->langchain-community) (0.3.2)\n",
            "Requirement already satisfied: pydantic<3.0.0,>=2.7.4 in /usr/local/lib/python3.10/dist-packages (from langchain<0.4.0,>=0.3.7->langchain-community) (2.9.2)\n",
            "Requirement already satisfied: jsonpatch<2.0,>=1.33 in /usr/local/lib/python3.10/dist-packages (from langchain-core<0.4.0,>=0.3.17->langchain-community) (1.33)\n",
            "Requirement already satisfied: packaging<25,>=23.2 in /usr/local/lib/python3.10/dist-packages (from langchain-core<0.4.0,>=0.3.17->langchain-community) (24.2)\n",
            "Requirement already satisfied: typing-extensions>=4.7 in /usr/local/lib/python3.10/dist-packages (from langchain-core<0.4.0,>=0.3.17->langchain-community) (4.12.2)\n",
            "Requirement already satisfied: httpx<1,>=0.23.0 in /usr/local/lib/python3.10/dist-packages (from langsmith<0.2.0,>=0.1.125->langchain-community) (0.27.2)\n",
            "Requirement already satisfied: orjson<4.0.0,>=3.9.14 in /usr/local/lib/python3.10/dist-packages (from langsmith<0.2.0,>=0.1.125->langchain-community) (3.10.11)\n",
            "Requirement already satisfied: requests-toolbelt<2.0.0,>=1.0.0 in /usr/local/lib/python3.10/dist-packages (from langsmith<0.2.0,>=0.1.125->langchain-community) (1.0.0)\n",
            "Collecting python-dotenv>=0.21.0 (from pydantic-settings<3.0.0,>=2.4.0->langchain-community)\n",
            "  Downloading python_dotenv-1.0.1-py3-none-any.whl.metadata (23 kB)\n",
            "Requirement already satisfied: charset-normalizer<4,>=2 in /usr/local/lib/python3.10/dist-packages (from requests<3,>=2->langchain-community) (3.4.0)\n",
            "Requirement already satisfied: idna<4,>=2.5 in /usr/local/lib/python3.10/dist-packages (from requests<3,>=2->langchain-community) (3.10)\n",
            "Requirement already satisfied: urllib3<3,>=1.21.1 in /usr/local/lib/python3.10/dist-packages (from requests<3,>=2->langchain-community) (2.2.3)\n",
            "Requirement already satisfied: certifi>=2017.4.17 in /usr/local/lib/python3.10/dist-packages (from requests<3,>=2->langchain-community) (2024.8.30)\n",
            "Requirement already satisfied: greenlet!=0.4.17 in /usr/local/lib/python3.10/dist-packages (from SQLAlchemy<2.0.36,>=1.4->langchain-community) (3.1.1)\n",
            "Requirement already satisfied: anyio in /usr/local/lib/python3.10/dist-packages (from httpx<1,>=0.23.0->langsmith<0.2.0,>=0.1.125->langchain-community) (3.7.1)\n",
            "Requirement already satisfied: httpcore==1.* in /usr/local/lib/python3.10/dist-packages (from httpx<1,>=0.23.0->langsmith<0.2.0,>=0.1.125->langchain-community) (1.0.6)\n",
            "Requirement already satisfied: sniffio in /usr/local/lib/python3.10/dist-packages (from httpx<1,>=0.23.0->langsmith<0.2.0,>=0.1.125->langchain-community) (1.3.1)\n",
            "Requirement already satisfied: h11<0.15,>=0.13 in /usr/local/lib/python3.10/dist-packages (from httpcore==1.*->httpx<1,>=0.23.0->langsmith<0.2.0,>=0.1.125->langchain-community) (0.14.0)\n",
            "Requirement already satisfied: jsonpointer>=1.9 in /usr/local/lib/python3.10/dist-packages (from jsonpatch<2.0,>=1.33->langchain-core<0.4.0,>=0.3.17->langchain-community) (3.0.0)\n",
            "Requirement already satisfied: annotated-types>=0.6.0 in /usr/local/lib/python3.10/dist-packages (from pydantic<3.0.0,>=2.7.4->langchain<0.4.0,>=0.3.7->langchain-community) (0.7.0)\n",
            "Requirement already satisfied: pydantic-core==2.23.4 in /usr/local/lib/python3.10/dist-packages (from pydantic<3.0.0,>=2.7.4->langchain<0.4.0,>=0.3.7->langchain-community) (2.23.4)\n",
            "Collecting mypy-extensions>=0.3.0 (from typing-inspect<1,>=0.4.0->dataclasses-json<0.7,>=0.5.7->langchain-community)\n",
            "  Downloading mypy_extensions-1.0.0-py3-none-any.whl.metadata (1.1 kB)\n",
            "Requirement already satisfied: propcache>=0.2.0 in /usr/local/lib/python3.10/dist-packages (from yarl<2.0,>=1.12.0->aiohttp<4.0.0,>=3.8.3->langchain-community) (0.2.0)\n",
            "Requirement already satisfied: exceptiongroup in /usr/local/lib/python3.10/dist-packages (from anyio->httpx<1,>=0.23.0->langsmith<0.2.0,>=0.1.125->langchain-community) (1.2.2)\n",
            "Downloading langchain_community-0.3.7-py3-none-any.whl (2.4 MB)\n",
            "\u001b[2K   \u001b[90m━━━━━━━━━━━━━━━━━━━━━━━━━━━━━━━━━━━━━━━━\u001b[0m \u001b[32m2.4/2.4 MB\u001b[0m \u001b[31m45.4 MB/s\u001b[0m eta \u001b[36m0:00:00\u001b[0m\n",
            "\u001b[?25hDownloading dataclasses_json-0.6.7-py3-none-any.whl (28 kB)\n",
            "Downloading httpx_sse-0.4.0-py3-none-any.whl (7.8 kB)\n",
            "Downloading pydantic_settings-2.6.1-py3-none-any.whl (28 kB)\n",
            "Downloading SQLAlchemy-2.0.35-cp310-cp310-manylinux_2_17_x86_64.manylinux2014_x86_64.whl (3.1 MB)\n",
            "\u001b[2K   \u001b[90m━━━━━━━━━━━━━━━━━━━━━━━━━━━━━━━━━━━━━━━━\u001b[0m \u001b[32m3.1/3.1 MB\u001b[0m \u001b[31m54.7 MB/s\u001b[0m eta \u001b[36m0:00:00\u001b[0m\n",
            "\u001b[?25hDownloading marshmallow-3.23.1-py3-none-any.whl (49 kB)\n",
            "\u001b[2K   \u001b[90m━━━━━━━━━━━━━━━━━━━━━━━━━━━━━━━━━━━━━━━━\u001b[0m \u001b[32m49.5/49.5 kB\u001b[0m \u001b[31m3.2 MB/s\u001b[0m eta \u001b[36m0:00:00\u001b[0m\n",
            "\u001b[?25hDownloading python_dotenv-1.0.1-py3-none-any.whl (19 kB)\n",
            "Downloading typing_inspect-0.9.0-py3-none-any.whl (8.8 kB)\n",
            "Downloading mypy_extensions-1.0.0-py3-none-any.whl (4.7 kB)\n",
            "Installing collected packages: SQLAlchemy, python-dotenv, mypy-extensions, marshmallow, httpx-sse, typing-inspect, pydantic-settings, dataclasses-json, langchain-community\n",
            "  Attempting uninstall: SQLAlchemy\n",
            "    Found existing installation: SQLAlchemy 2.0.36\n",
            "    Uninstalling SQLAlchemy-2.0.36:\n",
            "      Successfully uninstalled SQLAlchemy-2.0.36\n",
            "Successfully installed SQLAlchemy-2.0.35 dataclasses-json-0.6.7 httpx-sse-0.4.0 langchain-community-0.3.7 marshmallow-3.23.1 mypy-extensions-1.0.0 pydantic-settings-2.6.1 python-dotenv-1.0.1 typing-inspect-0.9.0\n",
            "Collecting tiktoken\n",
            "  Downloading tiktoken-0.8.0-cp310-cp310-manylinux_2_17_x86_64.manylinux2014_x86_64.whl.metadata (6.6 kB)\n",
            "Requirement already satisfied: regex>=2022.1.18 in /usr/local/lib/python3.10/dist-packages (from tiktoken) (2024.9.11)\n",
            "Requirement already satisfied: requests>=2.26.0 in /usr/local/lib/python3.10/dist-packages (from tiktoken) (2.32.3)\n",
            "Requirement already satisfied: charset-normalizer<4,>=2 in /usr/local/lib/python3.10/dist-packages (from requests>=2.26.0->tiktoken) (3.4.0)\n",
            "Requirement already satisfied: idna<4,>=2.5 in /usr/local/lib/python3.10/dist-packages (from requests>=2.26.0->tiktoken) (3.10)\n",
            "Requirement already satisfied: urllib3<3,>=1.21.1 in /usr/local/lib/python3.10/dist-packages (from requests>=2.26.0->tiktoken) (2.2.3)\n",
            "Requirement already satisfied: certifi>=2017.4.17 in /usr/local/lib/python3.10/dist-packages (from requests>=2.26.0->tiktoken) (2024.8.30)\n",
            "Downloading tiktoken-0.8.0-cp310-cp310-manylinux_2_17_x86_64.manylinux2014_x86_64.whl (1.2 MB)\n",
            "\u001b[2K   \u001b[90m━━━━━━━━━━━━━━━━━━━━━━━━━━━━━━━━━━━━━━━━\u001b[0m \u001b[32m1.2/1.2 MB\u001b[0m \u001b[31m25.3 MB/s\u001b[0m eta \u001b[36m0:00:00\u001b[0m\n",
            "\u001b[?25hInstalling collected packages: tiktoken\n",
            "Successfully installed tiktoken-0.8.0\n",
            "Collecting faiss-cpu\n",
            "  Downloading faiss_cpu-1.9.0-cp310-cp310-manylinux_2_17_x86_64.manylinux2014_x86_64.whl.metadata (4.4 kB)\n",
            "Requirement already satisfied: numpy<3.0,>=1.25.0 in /usr/local/lib/python3.10/dist-packages (from faiss-cpu) (1.26.4)\n",
            "Requirement already satisfied: packaging in /usr/local/lib/python3.10/dist-packages (from faiss-cpu) (24.2)\n",
            "Downloading faiss_cpu-1.9.0-cp310-cp310-manylinux_2_17_x86_64.manylinux2014_x86_64.whl (27.5 MB)\n",
            "\u001b[2K   \u001b[90m━━━━━━━━━━━━━━━━━━━━━━━━━━━━━━━━━━━━━━━━\u001b[0m \u001b[32m27.5/27.5 MB\u001b[0m \u001b[31m23.7 MB/s\u001b[0m eta \u001b[36m0:00:00\u001b[0m\n",
            "\u001b[?25hInstalling collected packages: faiss-cpu\n",
            "Successfully installed faiss-cpu-1.9.0\n",
            "Collecting PyPDF2\n",
            "  Downloading pypdf2-3.0.1-py3-none-any.whl.metadata (6.8 kB)\n",
            "Downloading pypdf2-3.0.1-py3-none-any.whl (232 kB)\n",
            "\u001b[2K   \u001b[90m━━━━━━━━━━━━━━━━━━━━━━━━━━━━━━━━━━━━━━━━\u001b[0m \u001b[32m232.6/232.6 kB\u001b[0m \u001b[31m8.2 MB/s\u001b[0m eta \u001b[36m0:00:00\u001b[0m\n",
            "\u001b[?25hInstalling collected packages: PyPDF2\n",
            "Successfully installed PyPDF2-3.0.1\n",
            "Collecting camelot-py[base]\n",
            "  Downloading camelot_py-0.11.0-py3-none-any.whl.metadata (8.3 kB)\n",
            "Requirement already satisfied: chardet>=3.0.4 in /usr/local/lib/python3.10/dist-packages (from camelot-py[base]) (5.2.0)\n",
            "Requirement already satisfied: click>=6.7 in /usr/local/lib/python3.10/dist-packages (from camelot-py[base]) (8.1.7)\n",
            "Requirement already satisfied: numpy>=1.13.3 in /usr/local/lib/python3.10/dist-packages (from camelot-py[base]) (1.26.4)\n",
            "Requirement already satisfied: openpyxl>=2.5.8 in /usr/local/lib/python3.10/dist-packages (from camelot-py[base]) (3.1.5)\n",
            "Requirement already satisfied: pandas>=0.23.4 in /usr/local/lib/python3.10/dist-packages (from camelot-py[base]) (2.2.2)\n",
            "Collecting pdfminer.six>=20200726 (from camelot-py[base])\n",
            "  Downloading pdfminer.six-20240706-py3-none-any.whl.metadata (4.1 kB)\n",
            "Collecting pypdf>=3.0.0 (from camelot-py[base])\n",
            "  Downloading pypdf-5.1.0-py3-none-any.whl.metadata (7.2 kB)\n",
            "Requirement already satisfied: tabulate>=0.8.9 in /usr/local/lib/python3.10/dist-packages (from camelot-py[base]) (0.9.0)\n",
            "Collecting ghostscript>=0.7 (from camelot-py[base])\n",
            "  Downloading ghostscript-0.7-py2.py3-none-any.whl.metadata (4.4 kB)\n",
            "Requirement already satisfied: opencv-python>=3.4.2.17 in /usr/local/lib/python3.10/dist-packages (from camelot-py[base]) (4.10.0.84)\n",
            "INFO: pip is looking at multiple versions of camelot-py[base] to determine which version is compatible with other requirements. This could take a while.\n",
            "Collecting camelot-py[base]\n",
            "  Downloading camelot_py-0.10.1-py3-none-any.whl.metadata (8.3 kB)\n",
            "Requirement already satisfied: PyPDF2>=1.26.0 in /usr/local/lib/python3.10/dist-packages (from camelot-py[base]) (3.0.1)\n",
            "  Downloading camelot_py-0.10.0-py3-none-any.whl.metadata (8.3 kB)\n",
            "  Downloading camelot_py-0.9.0-py3-none-any.whl.metadata (7.5 kB)\n",
            "\u001b[33mWARNING: camelot-py 0.9.0 does not provide the extra 'base'\u001b[0m\u001b[33m\n",
            "\u001b[0mRequirement already satisfied: et-xmlfile in /usr/local/lib/python3.10/dist-packages (from openpyxl>=2.5.8->camelot-py[base]) (2.0.0)\n",
            "Requirement already satisfied: python-dateutil>=2.8.2 in /usr/local/lib/python3.10/dist-packages (from pandas>=0.23.4->camelot-py[base]) (2.8.2)\n",
            "Requirement already satisfied: pytz>=2020.1 in /usr/local/lib/python3.10/dist-packages (from pandas>=0.23.4->camelot-py[base]) (2024.2)\n",
            "Requirement already satisfied: tzdata>=2022.7 in /usr/local/lib/python3.10/dist-packages (from pandas>=0.23.4->camelot-py[base]) (2024.2)\n",
            "Requirement already satisfied: charset-normalizer>=2.0.0 in /usr/local/lib/python3.10/dist-packages (from pdfminer.six>=20200726->camelot-py[base]) (3.4.0)\n",
            "Requirement already satisfied: cryptography>=36.0.0 in /usr/local/lib/python3.10/dist-packages (from pdfminer.six>=20200726->camelot-py[base]) (43.0.3)\n",
            "Requirement already satisfied: cffi>=1.12 in /usr/local/lib/python3.10/dist-packages (from cryptography>=36.0.0->pdfminer.six>=20200726->camelot-py[base]) (1.17.1)\n",
            "Requirement already satisfied: six>=1.5 in /usr/local/lib/python3.10/dist-packages (from python-dateutil>=2.8.2->pandas>=0.23.4->camelot-py[base]) (1.16.0)\n",
            "Requirement already satisfied: pycparser in /usr/local/lib/python3.10/dist-packages (from cffi>=1.12->cryptography>=36.0.0->pdfminer.six>=20200726->camelot-py[base]) (2.22)\n",
            "Downloading pdfminer.six-20240706-py3-none-any.whl (5.6 MB)\n",
            "\u001b[2K   \u001b[90m━━━━━━━━━━━━━━━━━━━━━━━━━━━━━━━━━━━━━━━━\u001b[0m \u001b[32m5.6/5.6 MB\u001b[0m \u001b[31m38.6 MB/s\u001b[0m eta \u001b[36m0:00:00\u001b[0m\n",
            "\u001b[?25hDownloading camelot_py-0.9.0-py3-none-any.whl (43 kB)\n",
            "\u001b[2K   \u001b[90m━━━━━━━━━━━━━━━━━━━━━━━━━━━━━━━━━━━━━━━━\u001b[0m \u001b[32m43.2/43.2 kB\u001b[0m \u001b[31m2.9 MB/s\u001b[0m eta \u001b[36m0:00:00\u001b[0m\n",
            "\u001b[?25hInstalling collected packages: pdfminer.six, camelot-py\n",
            "Successfully installed camelot-py-0.9.0 pdfminer.six-20240706\n",
            "Requirement already satisfied: PyPDF2 in /usr/local/lib/python3.10/dist-packages (3.0.1)\n"
          ]
        }
      ],
      "source": [
        "!pip install langchain-community\n",
        "!pip install tiktoken\n",
        "!pip install faiss-cpu\n",
        "!pip install PyPDF2  # Install PyPDF2 for PDF handling\n",
        "!pip install camelot-py[base] # Install camelot for tabular data extraction\n",
        "!pip install PyPDF2"
      ]
    },
    {
      "source": [
        "import PyPDF2\n",
        "\n",
        "# Function to extract text from a PDF file\n",
        "def extract_text_from_pdf(file_path):\n",
        "    with open(file_path, 'rb') as file:\n",
        "        reader = PyPDF2.PdfReader(file)\n",
        "        text = ''\n",
        "        for page in reader.pages:\n",
        "            text += page.extract_text() + '\\n'\n",
        "    return text\n",
        "\n",
        "# Extract text from the available PDF files\n",
        "bank_rakyat = extract_text_from_pdf('/content/bank-rakyat-credit-card.pdf')\n",
        "public_bank = extract_text_from_pdf('/content/pds-credit-card-en.pdf')\n",
        "hong_leong = extract_text_from_pdf('/content/hlb-product-disclosure-sheet-en.pdf')"
      ],
      "cell_type": "code",
      "metadata": {
        "id": "zwYN8Jtp5RiI"
      },
      "execution_count": 2,
      "outputs": []
    },
    {
      "cell_type": "code",
      "source": [
        "import re\n",
        "\n",
        "# Function to split text into chunks\n",
        "def split_text_into_chunks(text, chunk_size=500):\n",
        "    # Split text into words\n",
        "    words = re.findall(r'\\S+', text)\n",
        "    # Create chunks\n",
        "    chunks = [' '.join(words[i:i + chunk_size]) for i in range(0, len(words), chunk_size)]\n",
        "    return chunks\n",
        "\n",
        "# Use the extracted text from the PDFs\n",
        "texts = [bank_rakyat,public_bank, hong_leong]\n",
        "\n",
        "# Split each text into chunks\n",
        "chunks = []\n",
        "for text in texts:\n",
        "    chunks.extend(split_text_into_chunks(text))\n",
        "\n",
        "# Display the first few chunks to verify\n",
        "chunks[:5]"
      ],
      "metadata": {
        "colab": {
          "base_uri": "https://localhost:8080/"
        },
        "id": "GDLjXZra7k99",
        "outputId": "f08be01a-4a19-4a44-f6dc-0b8c979b37d9"
      },
      "execution_count": 3,
      "outputs": [
        {
          "output_type": "execute_result",
          "data": {
            "text/plain": [
              "[\"Product Disclosure S heet – Credit Card -i Bank Kerjasama Rakyat Malaysia Berhad Version 13/Dated 25/3/2024/BKRM PRODUCT DISCLOSURE SHEET IMPORTANT : Please read this Product Disclosure Sheet before you decide to take Bank Rakyat Credit Card -i. Please ensure that you also read the general Terms and Conditions. BANK RAKYAT Bank Rakyat Credit Card -i Date : 1. What is Ban k Rakyat Credit Card -i? This is a MasterCard Credit Card -i, with a financing limit granted by us to you where if the financing limit which has been utilized but has not been fully settled before the due date will be subject to profit charges. 2. What is the Shariah concept appli cable? The financing facili ties are under the Shariah principles of Murabahah (by adopting Tawarruq practice) where based on Wa’d from customers, the Bank will purchase commodities from commodity suppliers and subsequently sell commo dities to customers based on Murabahah contract at selling price (commodity cost with profit) by def erred and then, as a customer agent, the Bank sells it to third party buyers in cash. Cash proceeds from these third party buyers will be deposited in the d edicated account to enable customers to make transactions for the purchase of goods or other services. 3. What do I get from Bank Rakyat Credit Card -i? a) a) The F inancing Limit for Bank Rakyat Credit Card -i will be determined based on the applicant's annual income. The financing limit is subject to Bank Rakyat’s absolute discretion , with the following minimum limit : Card Type Minimum Limit (RM) Annual Income (RM) Platinum 20,000 > 60,000 Rakyat Xclusive MasterCard 20,000 > 60,000 Gold 1,000 > 36,000 Musl imah 3,000 > 24,000 Jit Sin Alumni 3,000 > 36,000 Platinum Explorer 3,000 > 60,000 Platinum Xclusive Explorer 50,0000 > 60,000 PDRM Gold 1,000 > 24,000 PDRM Platinum 3,000 > 24,000 KOSPERA 3,000 > 24,000 Cikgu Sejati 3,000 > 24,000 - MasterCard R akyat Xclusive Credit Card -i & Platinum Xclusive Explorer Credit Card -i – Special edition c ard offered to Bank Rakyat Xclusive members. - Jit Sin Alumni Credit Card -i – Special edition card offered to alumni members of Jit Sin High School. - PDRM Credit C ard-i – Special edition card offere d to Royal Malaysia Police (RMP ) personnel and RMP non - management personnel - KOSPERA Credit Card -i – Special edition card offered to member of Koperasi Suruhanjaya Pencegahan Rasuah Malaysia Berhad. - Cikgu Sejati C redit Card -i - Special edition card offered to teachers under the Ministry of Education Malaysia (MOE). ADDITIONAL INFORMATION : 1. Applicant who earns: ➢ <RM36,000 per annum - the cardholder can only hold credit cards from a maximum of two issuers and the m aximum financing limit extended to t he cardholder shall be two times his monthly income per issuer. This is applicable to both an existing and new cardholder. ➢ >RM36,000 per a nnum - financing limit is based on fin ancing\",\n",
              " 'assessment on limit eli gibility. 2. Applicants who are unable to provide pro of of income do cument, you must open Bank Rakyat Term Deposit -i Account and place a total amount of deposit which will be equivalent to the total Credit C ard-i financing limit applied. The deposit in the Te rm Deposit -i Account shall be mainta ined for as long as the Credit Card -i is active. Product Disclosure S heet – Credit Card -i Bank Kerjasama Rakyat Malaysia Berhad Version 13/Dated 25/3/2024/BKRM b) LOW annual profit rate under the Bank Rakyat Credit Card -i Tiered Pricing Structure s: Annual Profit Rat e Criteria Tier Retail 13.5% Non-Bank Rakyat Member Tier 1: Minimum payment received before or on the Payment Due Date for 9 consecutive months . 13.0% Bank Rakyat Member 17.0% Non-Bank Rakyat Member Tier 2: Minimu m payment received before or on the Payment D ue Date for 6 months or more within 9 months period. 15.5% Bank Rakyat Member 18.0% Non-Bank Rakyat Member Tier 3: Does not meet the above conditions for Tier 1 and Tier 2. 17.0% Bank Rakyat Member Cash Withdrawal 18.0% Cash withdr awal rate is calculated daily from the date of the transaction until the date of full payment. Balance Transfer 0.25% per month or 3% per annum First three (3) month s 1.125% per month or 13.5% per annum Fourth (4th) month until the total amount transfer is fully settled. Note : To enjoy low er annual profit rate s, you n eed to make payments for at least 9 consecutive months over a 12 month s period. c) Annual profit rate offer for government servants and employees o f Government Link Company (G LC): Type of Transaction Tier Annual Profit Rate Entitlement Requirement Entit lement Tenure Retail Tier 1 8% Total outstanding balance >30% from financing limit AND NOT excee d 60 days delinquent. THREE (3) YEARS from the FIRST statement issued after the enrollment date. Tier 2 9% Total outstanding balance is 10% - 30% from fina ncing limit AND NOT exceed 60 days delinquent. Tier 3 10% Total outstanding balance <10% AND NOT exceed 60 days delinquent. Cash Withdrawal - 18% - - Balance Transfer First Three (3) Months - 3% - - Fourth (4th) Mont hs Onwards Tier 1 8% > 30% f rom financing limit Until fully settled. Tier 2 9% 10% - 30% from financing limit Tier 3 10% < 10% from financing limit IMPORTANT : 1. In the event cardholders credit card -i account delinquent for more than 60 days for RETAIL transactions, the ab ove annual profit rate offering will be REVOKED automatically. Cardholders will be charged with existing annual profit rate Tier at Tier 2 which 15.5% for Bank Rakyat Member s, 17% for Non-Bank Rakyat Member s and 9% for Bank Ra kyat staffs. 2. The profit rat e offer is valid for approved applications until 31 August 2024. The approved applications starting 1 September 2024 will be subject',\n",
              " 'to profit rates based on the current Tier ed pricin g structure. Product Disclosure S heet – Credit Card -i Bank Kerjasama Rakyat Malaysia Berhad Version 13/Dated 25/3/2024/BKRM d) Cash withdrawal : Maximum cash withdrawal limit via c ounter / ATM is based on the limit of cash withdrawal at the counter / ATM or based on the Schedule / Tier below : Tier Criteria Annual Profit Rate (Retail Transaction) Maximum Withdrawal Limit Tier 1 Bank Rakyat Member 13.0% 100% Non-Bank Rakyat Member 13.5% Tier 2 Bank Rakyat Member 15.5% 75% Non-Bank Rakyat Member 17.0% Tier 3 Bank Rakyat Member 17.0% 50% Non-Bank Rakyat Member 18.0% Note : Percentage (%) of the permissible maximum withdrawal limit is based on the specified financing limit. e) Rakyat Rebate. Rakyat Rebate schedule as per below: Items Year 1 Year 2 Year 3 Auto debit facility 0.5% 0.5% 0.5% Good paymaster 1.0% 1.0% 1.5% Other financing facilities at Bank Rakyat 0.5% 1.0% 1.0% Total Rebate (Rakyat Rebate) 2.0% 2.5% 3.0% Profit rebate earned from Rakyat Rebate will be offset against principal outstanding balance on statement date. f) Rakyat Rewards - 1 point is given to cardholder every RM10 spent. The point would then be converted to for cash at the rate of RM0.10 per 10 points. - Rakyat Rewards validity period is confined to 3 years. The rewards earned by cardholders on any date of any month are valid until the end of the same month, for the next 3 y ears. g) FREE Group Family Takaful Coverage and ‘Khairat Kematian ’ (RM1,000). Coverages includes guaranteed financing payment of outstanding finances accrued through Credit Card-i usage. * Maximum age limit for Takaful coverage is 64 years old on the date of the event (death/TPD). * Maximum amount for Takafu l Coverage is up to RM300,000 (subject to takaful approval). Additional benefits for Bank Rakyat Platinum Explorer & Platinum Xclusive Explorer : a) 5% Cashback on airlines AND hotels b ookings* *NOTE : ➢ 5% cash back is CAPP ED at maximum amount of RM1,00 0 per annum. ➢ Subject to Merchant Category Code (MCC) that have been determined by Bank ONLY . ➢ The amount is a total combination of usage by Principal and Supplementary cardholders. ➢ NOT for commerci al used. b) FREE access to Plaza Premium Lounge : * NOTE : ➢ Three (3) times access per year. ➢ Three (3) times access is allocate for each Principal and Supplementary Cardholders. ➢ Three (3) times access will not be carried forward to the following year. ➢ The accessibility will be refre shed on yearly basis. ➢ VALID a t Plaza Premium Lounge nationwide. ✓ Bank Rakyat Platinum Xclusive Explorer : ➢ Five (5) times access per year. ➢ Five (5) times access is allocate for each Principal and Supplementary Cardholders. ➢ Five (5) times access will not be carried forward to the foll owing year. ➢ The accessibility will be refreshed on yearly basis. ➢ VALID at Plaza Premium Lounge nationwide. *',\n",
              " 'IMPORTANT : 1) Free access offered at Plaza Premium Lounge is LIMITED to HALAL food and beverages ONLY. Bank shall not be held responsible for a ny NON -HALAL food and beverages consumed by cardholders that are meant to be served for NON -MUSLIM customers. 2) Access and lounge facilities of Plaza Premium Lounge is subject to any rules and r egulations set by Plaza Premium Lounge Management Limited fr om time to time. Product Disclosure S heet – Credit Card -i Bank Kerjasama Rakyat Malaysia Berhad Version 13/Dated 25/3/2024/BKRM Additional benefits for Bank Rakyat PDRM Credit Card -i : a) Special cash withdrawal fee at 1 .5% or minimum RM15 (whichever is higher) for ATM/Bank Rakyat Counter . Note: Fee for withdrawal at other bank’s ATM/Co unter to remain. Additional b enefits for Bank Rakyat Cikgu Sejati Credit Card -i : a) 5% cashback on any transactions at petrol stations, bookstores, hotels, and stationery stores nationwide * * NOTE : ➢ 5% cashback is LIMITED to R M50 per month or RM600 per year. ➢ Subject to the Merchant Category Code (MCC) set by the Bank ONLY. ➢ This amount is a Combination of usage from the Primary and Supplementary cardholders. ➢ CANNOT be used for business purposes. 4. What is my obligat ion? • As a principal c ardholder, you are liable to all transactions incurred by the supplementary cardholder s. Minimum Monthly Payment = (A) + (B) + (C) + (D) + (E) OR RM50 , whichever is higher The monthly minimum payment composition is comprising of : A) 5% from outstanding balance (comprising of retail transactions, balance transfer (without instalment), cash withdra wal, profit charges, Card Service Tax, annual fee (if any) , additional taxes imposed (if any) and other fees (if any) AND B) Monthly instalments plans (contracted FLEXI, EPP, balance transfer and any other instalment from time to time) subscribed after 31st MAY 2020 AND C) The contra cted monthly term financing instalment for Automatic Balance Conversion (ABC) if any AND D) Unpaid monthly minimum payment AND E) Utilization amount in excess of the financing limit OR • A minimum payment of RM50 from the outs tanding balance , whichever is higher. Grace Period of Profit Charge • For retail transactions * -20 days from the date of the transaction, only if you pay full the outstanding balance before or on the due date. • If you do not pay in full before or o n the due date, profit charges will be calculated from the date the transaction is debited. * Not applicable to Balance Transfer and Cash Withdrawal. Product Disclosure S heet – Credit Card -i Bank Kerjasama Rakyat Malaysia Berhad Version 13/Dated 25/3/2024/BKRM 5. What are the fees and charges I have to p ay? Fees and Charges Description 1. Annual Fee Card Type Primary (RM) Supplementary (RM) Platinum 388 150 Rakyat Xclusive MasterCard 388 150 Jit Sin Alumni 388 150 Platinum Xclusive Exp lorer 388 150 Note: The annual fee',\n",
              " \"is WAIVED for the first ye ar. Annual fees are also waived for the second year and onwards, provided that at least one (1) usage in a year. Card Type Primary (RM) Supplementary (RM) Platinum Explorer 388 150 Gold 150 80 Muslimah 388 150 PDR M Gold 150 80 PDR M Platinum 388 150 KOSPERA 388 150 Cikgu Sejati 388 150 Note: Currently, the an nual fee is WAIVED. 2. Cash Withdrawal Fee a) Cash withdrawal via Bank Rakyat ATM or counter, will be charged a fee of 3% on the total cash withdrawal amount or RM20 whichever is higher . b) Cash withdr awal via other bank ATM or counter s, a 5% fee will be charged on the total cash withdrawal amount , or RM 20 whichever is higher. The c ash withdrawal service fee schedule is as below : Channel s Cash Withdrawal amount Fee Bank Rakyat's ATM / counter Up to R M666 RM2 0 Exceed ing RM666 3% of cash withdrawal amount Others Bank’s ATM / coun ter Up to RM400 RM2 0 Exceeding RM400 5% of cash withdrawal amount 3. Copy of Card Monthly Statement Request RM5. 00 will be charged for each requested copy of Card M onthly Statement . 4. Sales Draft Request a) RM5. 00 will be charged for e ach photocopy of Sales Draft. b) RM15. 00 for each original copy of the Sales Draft. 5. Card Replacement RM50 for every replacement of Bank Rakyat Credit Card -i. 6. Oversea s Transaction The currency conv ersion for overseas transaction ar e determined by MasterCard International on the date the transactions are received and/or processed by Bank Rakyat. 7. Over Limit Excess None 8. Service Tax (Credit Card -i) Primary (RM) Supplementary (RM) 25.00 25.00 6. What if I fail to fu ll fill my obligations? a) Compensation Charge (Ta'widh) of 1% from the total outstanding balance if no payment received on the fo urth (4th) day after the due date or payment made is less than the stated min imum payment (subject to minimu m charge of RM10 and maximum charg e of RM100). This charge is not compounded. b) The Bank reserves the right to transfer any credit balance in any of your Bank Rakyat account s to pay any outstanding Credit Card-i account by giving notice of seven ( 7) calenda r days in advance. c) If you fail to report the loss/stolen of the card IMMEDIATELY, you will be liable for any unauthorized transactions through the usage of the card . d) You will be liable for card -present unauthorized transact ions which require PIN verifica tion if you have : • acted fraudule ntly; • delayed in notifying Bank Rakyat Card Cent re as soon as reasonably practicable after having discovered the loss/stolen or unauth orized use of the Credit Card -i; • voluntarily disclosed the PIN to another person; or • recorded your PIN on the Credit Card -i or on anything kept in close\"]"
            ]
          },
          "metadata": {},
          "execution_count": 3
        }
      ]
    },
    {
      "source": [
        "from langchain.document_loaders import TextLoader\n",
        "from langchain.embeddings.openai import OpenAIEmbeddings\n",
        "from langchain.text_splitter import CharacterTextSplitter\n",
        "from langchain.vectorstores import FAISS\n",
        "from langchain.docstore.document import Document # Import Document class\n",
        "from dotenv import load_dotenv\n",
        "import os\n",
        "\n",
        "load_dotenv()\n",
        "\n",
        "os.environ[\"OPENAI_API_KEY\"] = '#'\n",
        "\n",
        "# Convert chunks (strings) to Document objects\n",
        "documents = [Document(page_content=chunk) for chunk in chunks]\n",
        "\n",
        "# Load the document, split it into chunks, embed each chunk and load it into the vector store.\n",
        "# Insert question & answer csv file\n",
        "db = FAISS.from_documents(documents, OpenAIEmbeddings()) # Use documents instead of chunks"
      ],
      "cell_type": "code",
      "metadata": {
        "colab": {
          "base_uri": "https://localhost:8080/"
        },
        "id": "mL9WPGu-9yiM",
        "outputId": "5a401b29-d522-455d-886a-1991442aceab"
      },
      "execution_count": 4,
      "outputs": [
        {
          "output_type": "stream",
          "name": "stderr",
          "text": [
            "<ipython-input-4-1a1a2b8fe128>:18: LangChainDeprecationWarning: The class `OpenAIEmbeddings` was deprecated in LangChain 0.0.9 and will be removed in 1.0. An updated version of the class exists in the :class:`~langchain-openai package and should be used instead. To use it run `pip install -U :class:`~langchain-openai` and import as `from :class:`~langchain_openai import OpenAIEmbeddings``.\n",
            "  db = FAISS.from_documents(documents, OpenAIEmbeddings()) # Use documents instead of chunks\n"
          ]
        }
      ]
    },
    {
      "cell_type": "code",
      "source": [
        "query = \"Bank Rakyat minimum requirement : applicant who earns: ➢ <RM36,000 per annum .  \"\n",
        "docs = db.similarity_search(query)\n",
        "print(docs[0].page_content)"
      ],
      "metadata": {
        "colab": {
          "base_uri": "https://localhost:8080/"
        },
        "id": "n5M1EvqL-Kxy",
        "outputId": "4bb5234d-4304-4972-abb7-b643fb25b767"
      },
      "execution_count": 5,
      "outputs": [
        {
          "output_type": "stream",
          "name": "stdout",
          "text": [
            "assessment on limit eli gibility. 2. Applicants who are unable to provide pro of of income do cument, you must open Bank Rakyat Term Deposit -i Account and place a total amount of deposit which will be equivalent to the total Credit C ard-i financing limit applied. The deposit in the Te rm Deposit -i Account shall be mainta ined for as long as the Credit Card -i is active. Product Disclosure S heet – Credit Card -i Bank Kerjasama Rakyat Malaysia Berhad Version 13/Dated 25/3/2024/BKRM b) LOW annual profit rate under the Bank Rakyat Credit Card -i Tiered Pricing Structure s: Annual Profit Rat e Criteria Tier Retail 13.5% Non-Bank Rakyat Member Tier 1: Minimum payment received before or on the Payment Due Date for 9 consecutive months . 13.0% Bank Rakyat Member 17.0% Non-Bank Rakyat Member Tier 2: Minimu m payment received before or on the Payment D ue Date for 6 months or more within 9 months period. 15.5% Bank Rakyat Member 18.0% Non-Bank Rakyat Member Tier 3: Does not meet the above conditions for Tier 1 and Tier 2. 17.0% Bank Rakyat Member Cash Withdrawal 18.0% Cash withdr awal rate is calculated daily from the date of the transaction until the date of full payment. Balance Transfer 0.25% per month or 3% per annum First three (3) month s 1.125% per month or 13.5% per annum Fourth (4th) month until the total amount transfer is fully settled. Note : To enjoy low er annual profit rate s, you n eed to make payments for at least 9 consecutive months over a 12 month s period. c) Annual profit rate offer for government servants and employees o f Government Link Company (G LC): Type of Transaction Tier Annual Profit Rate Entitlement Requirement Entit lement Tenure Retail Tier 1 8% Total outstanding balance >30% from financing limit AND NOT excee d 60 days delinquent. THREE (3) YEARS from the FIRST statement issued after the enrollment date. Tier 2 9% Total outstanding balance is 10% - 30% from fina ncing limit AND NOT exceed 60 days delinquent. Tier 3 10% Total outstanding balance <10% AND NOT exceed 60 days delinquent. Cash Withdrawal - 18% - - Balance Transfer First Three (3) Months - 3% - - Fourth (4th) Mont hs Onwards Tier 1 8% > 30% f rom financing limit Until fully settled. Tier 2 9% 10% - 30% from financing limit Tier 3 10% < 10% from financing limit IMPORTANT : 1. In the event cardholders credit card -i account delinquent for more than 60 days for RETAIL transactions, the ab ove annual profit rate offering will be REVOKED automatically. Cardholders will be charged with existing annual profit rate Tier at Tier 2 which 15.5% for Bank Rakyat Member s, 17% for Non-Bank Rakyat Member s and 9% for Bank Ra kyat staffs. 2. The profit rat e offer is valid for approved applications until 31 August 2024. The approved applications starting 1 September 2024 will be subject\n"
          ]
        }
      ]
    },
    {
      "cell_type": "code",
      "source": [
        "print(documents[1])"
      ],
      "metadata": {
        "colab": {
          "base_uri": "https://localhost:8080/"
        },
        "id": "8bVxLFTz-ofy",
        "outputId": "fc3f686a-445f-4768-8f33-297f7067dbc7"
      },
      "execution_count": 6,
      "outputs": [
        {
          "output_type": "stream",
          "name": "stdout",
          "text": [
            "page_content='assessment on limit eli gibility. 2. Applicants who are unable to provide pro of of income do cument, you must open Bank Rakyat Term Deposit -i Account and place a total amount of deposit which will be equivalent to the total Credit C ard-i financing limit applied. The deposit in the Te rm Deposit -i Account shall be mainta ined for as long as the Credit Card -i is active. Product Disclosure S heet – Credit Card -i Bank Kerjasama Rakyat Malaysia Berhad Version 13/Dated 25/3/2024/BKRM b) LOW annual profit rate under the Bank Rakyat Credit Card -i Tiered Pricing Structure s: Annual Profit Rat e Criteria Tier Retail 13.5% Non-Bank Rakyat Member Tier 1: Minimum payment received before or on the Payment Due Date for 9 consecutive months . 13.0% Bank Rakyat Member 17.0% Non-Bank Rakyat Member Tier 2: Minimu m payment received before or on the Payment D ue Date for 6 months or more within 9 months period. 15.5% Bank Rakyat Member 18.0% Non-Bank Rakyat Member Tier 3: Does not meet the above conditions for Tier 1 and Tier 2. 17.0% Bank Rakyat Member Cash Withdrawal 18.0% Cash withdr awal rate is calculated daily from the date of the transaction until the date of full payment. Balance Transfer 0.25% per month or 3% per annum First three (3) month s 1.125% per month or 13.5% per annum Fourth (4th) month until the total amount transfer is fully settled. Note : To enjoy low er annual profit rate s, you n eed to make payments for at least 9 consecutive months over a 12 month s period. c) Annual profit rate offer for government servants and employees o f Government Link Company (G LC): Type of Transaction Tier Annual Profit Rate Entitlement Requirement Entit lement Tenure Retail Tier 1 8% Total outstanding balance >30% from financing limit AND NOT excee d 60 days delinquent. THREE (3) YEARS from the FIRST statement issued after the enrollment date. Tier 2 9% Total outstanding balance is 10% - 30% from fina ncing limit AND NOT exceed 60 days delinquent. Tier 3 10% Total outstanding balance <10% AND NOT exceed 60 days delinquent. Cash Withdrawal - 18% - - Balance Transfer First Three (3) Months - 3% - - Fourth (4th) Mont hs Onwards Tier 1 8% > 30% f rom financing limit Until fully settled. Tier 2 9% 10% - 30% from financing limit Tier 3 10% < 10% from financing limit IMPORTANT : 1. In the event cardholders credit card -i account delinquent for more than 60 days for RETAIL transactions, the ab ove annual profit rate offering will be REVOKED automatically. Cardholders will be charged with existing annual profit rate Tier at Tier 2 which 15.5% for Bank Rakyat Member s, 17% for Non-Bank Rakyat Member s and 9% for Bank Ra kyat staffs. 2. The profit rat e offer is valid for approved applications until 31 August 2024. The approved applications starting 1 September 2024 will be subject'\n"
          ]
        }
      ]
    },
    {
      "cell_type": "code",
      "source": [
        "from langchain.chains import RetrievalQA\n",
        "from langchain.llms import OpenAI\n",
        "from langchain.chains.llm import LLMChain # Import LLMChain\n",
        "from langchain.prompts import PromptTemplate # Import PromptTemplate\n",
        "\n",
        "retriever = db.as_retriever()\n",
        "\n",
        "# Create a custom prompt template with a reduced context window\n",
        "template = \"\"\"Use the following pieces of context to answer the question at the end. If you don't know the answer, just say that you don't know, don't try to make up an answer.\n",
        "\n",
        "{context}\n",
        "\n",
        "Question: {question}\n",
        "Answer:\"\"\"\n",
        "PROMPT = PromptTemplate(\n",
        "    template=template, input_variables=[\"context\", \"question\"]\n",
        ")\n",
        "llm_chain = LLMChain(llm=OpenAI(temperature=0), prompt=PROMPT) # Chain with custom prompt"
      ],
      "metadata": {
        "colab": {
          "base_uri": "https://localhost:8080/"
        },
        "id": "gSDnJid9_4DI",
        "outputId": "d21280cd-8140-4204-c8ac-39afa5274c5f"
      },
      "execution_count": 7,
      "outputs": [
        {
          "output_type": "stream",
          "name": "stderr",
          "text": [
            "<ipython-input-7-54932caa22e7>:18: LangChainDeprecationWarning: The class `OpenAI` was deprecated in LangChain 0.0.10 and will be removed in 1.0. An updated version of the class exists in the :class:`~langchain-openai package and should be used instead. To use it run `pip install -U :class:`~langchain-openai` and import as `from :class:`~langchain_openai import OpenAI``.\n",
            "  llm_chain = LLMChain(llm=OpenAI(temperature=0), prompt=PROMPT) # Chain with custom prompt\n",
            "<ipython-input-7-54932caa22e7>:18: LangChainDeprecationWarning: The class `LLMChain` was deprecated in LangChain 0.1.17 and will be removed in 1.0. Use :meth:`~RunnableSequence, e.g., `prompt | llm`` instead.\n",
            "  llm_chain = LLMChain(llm=OpenAI(temperature=0), prompt=PROMPT) # Chain with custom prompt\n"
          ]
        }
      ]
    },
    {
      "cell_type": "code",
      "source": [
        "qa = RetrievalQA.from_chain_type(llm=OpenAI(), chain_type=\"stuff\", retriever=retriever)\n",
        "\n",
        "query = \"What are the typical benefits and rewards I should look for when selecting my first credit card?\"\n",
        "qa.run(query)"
      ],
      "metadata": {
        "colab": {
          "base_uri": "https://localhost:8080/",
          "height": 229
        },
        "id": "FY_x5IVxAB88",
        "outputId": "16105bee-1341-426f-92df-91553eded326"
      },
      "execution_count": 8,
      "outputs": [
        {
          "output_type": "stream",
          "name": "stderr",
          "text": [
            "<ipython-input-8-477f40976d58>:4: LangChainDeprecationWarning: The method `Chain.run` was deprecated in langchain 0.1.0 and will be removed in 1.0. Use :meth:`~invoke` instead.\n",
            "  qa.run(query)\n"
          ]
        },
        {
          "output_type": "execute_result",
          "data": {
            "text/plain": [
              "\"\\nSome typical benefits and rewards to look for when selecting your first credit card may include:\\n\\n1. Cash back or rewards program: Many credit cards offer cash back on purchases or a rewards program where you can earn points that can be redeemed for travel, merchandise, or cash.\\n\\n2. No annual fee: Some credit cards charge an annual fee, so it's important to look for one that does not have this fee.\\n\\n3. Low interest rate: If you plan on carrying a balance on your credit card, look for one with a low interest rate to avoid paying high finance charges.\\n\\n4. Introductory offers: Some credit cards may offer an introductory 0% APR for a certain period of time, making it a good option for large purchases or balance transfers.\\n\\n5. Fraud protection: Credit cards offer protection against fraudulent charges, so it's important to choose one that has strong security measures in place.\\n\\n6. Additional perks: Some credit cards may offer additional perks such as travel insurance, airport lounge access, or discounts at certain retailers.\\n\\nWhen selecting your first credit card, it's important to consider your spending habits and needs to find the best fit for you. It's also important to carefully read the terms and conditions and understand any potential fees or limitations before choosing a credit card\""
            ],
            "application/vnd.google.colaboratory.intrinsic+json": {
              "type": "string"
            }
          },
          "metadata": {},
          "execution_count": 8
        }
      ]
    },
    {
      "cell_type": "markdown",
      "source": [
        "\n",
        "Some typical benefits and rewards to look for when selecting your first credit card may include:\n",
        "\n",
        "1. Cash back or rewards program: Many credit cards offer cash back on purchases or a rewards program where you can earn points that can be redeemed for travel, merchandise, or cash.\n",
        "\n",
        "2. No annual fee: Some credit cards charge an annual fee, so it's important to look for one that does not have this fee.\n",
        "\n",
        "3. Low interest rate: If you plan on carrying a balance on your credit card, look for one with a low interest rate to avoid paying high finance charges.\n",
        "\n",
        "4. Introductory offers: Some credit cards may offer an introductory 0% APR for a certain period of time, making it a good option for large purchases or balance transfers.\n",
        "\n",
        "5. Fraud protection: Credit cards offer protection against fraudulent charges, so it's important to choose one that has strong security measures in place.\n",
        "\n",
        "6. Additional perks: Some credit cards may offer additional perks such as travel insurance, airport lounge access, or discounts at certain retailers.\n",
        "\n",
        "When selecting your first credit card, it's important to consider your spending habits and needs to find the best fit for you. It's also important to carefully read the terms and conditions and understand any potential fees or limitations before choosing a credit card"
      ],
      "metadata": {
        "id": "IS21VqsIAbNj"
      }
    },
    {
      "cell_type": "code",
      "source": [
        "query = \"How much monthly payment credit card\"\n",
        "qa.run(query)"
      ],
      "metadata": {
        "colab": {
          "base_uri": "https://localhost:8080/",
          "height": 53
        },
        "id": "V4PqXSycBGYI",
        "outputId": "53eecf70-b99d-4b03-a6ad-c95d81cf1402"
      },
      "execution_count": 10,
      "outputs": [
        {
          "output_type": "execute_result",
          "data": {
            "text/plain": [
              "' The minimum monthly payment for the credit card is 5% of the outstanding balance or a minimum of RM50, whichever is higher.'"
            ],
            "application/vnd.google.colaboratory.intrinsic+json": {
              "type": "string"
            }
          },
          "metadata": {},
          "execution_count": 10
        }
      ]
    },
    {
      "cell_type": "code",
      "source": [
        "query = \"What is the maximum age for approval?\"\n",
        "qa.run(query)"
      ],
      "metadata": {
        "colab": {
          "base_uri": "https://localhost:8080/",
          "height": 70
        },
        "id": "c9qkYG7GBVtA",
        "outputId": "3fabc012-9728-4a6f-da4d-7e6b65ee3382"
      },
      "execution_count": 11,
      "outputs": [
        {
          "output_type": "execute_result",
          "data": {
            "text/plain": [
              "\" The maximum age for approval varies depending on the specific product and takaful coverage. For example, the maximum age for takaful coverage for the Rakyat Rebate is 64 years old on the date of the event (death/TPD). It is best to check with the specific product's terms and conditions for more information on age eligibility.\""
            ],
            "application/vnd.google.colaboratory.intrinsic+json": {
              "type": "string"
            }
          },
          "metadata": {},
          "execution_count": 11
        }
      ]
    },
    {
      "cell_type": "code",
      "source": [
        "query = \"What are the career requirements to be eligible for this credit card from different banks?\"\n",
        "qa.run(query)"
      ],
      "metadata": {
        "colab": {
          "base_uri": "https://localhost:8080/",
          "height": 174
        },
        "id": "_0FMpfvWBptG",
        "outputId": "decdfe2c-07c7-4663-80e5-9859a0a31a31"
      },
      "execution_count": 12,
      "outputs": [
        {
          "output_type": "execute_result",
          "data": {
            "text/plain": [
              "'\\nThe career requirements to be eligible for a credit card from different banks may vary. Some common requirements may include:\\n\\n1. Employment status: Most banks require applicants to have a stable and regular source of income, such as being employed full-time or self-employed.\\n\\n2. Minimum income: Banks may have a minimum income requirement for credit card applicants, which can vary from bank to bank. This is to ensure that the applicant has the financial means to repay the credit card debt.\\n\\n3. Credit score: A good credit score is usually necessary to be eligible for a credit card. This shows the bank that you have a responsible credit history and are likely to repay your debts on time.\\n\\n4. Age: Most banks require applicants to be at least 18 years old to be eligible for a credit card. Some may have a higher minimum age requirement.\\n\\n5. Citizenship or residency: Some banks may only offer credit cards to citizens or permanent residents of the country where the bank is located.\\n\\n6. Employment length: Some banks may require applicants to have a certain length of employment with their current employer, usually at least 6 months to a year.\\n\\nIt is important to note that these requirements may vary depending on the specific credit card and bank. It is best to check with the bank directly'"
            ],
            "application/vnd.google.colaboratory.intrinsic+json": {
              "type": "string"
            }
          },
          "metadata": {},
          "execution_count": 12
        }
      ]
    },
    {
      "cell_type": "code",
      "source": [
        "query = \"How can I effectively manage my spending and avoid debt with my new credit card?\"\n",
        "qa.run(query)"
      ],
      "metadata": {
        "colab": {
          "base_uri": "https://localhost:8080/",
          "height": 174
        },
        "id": "j6BwqRGKB6la",
        "outputId": "23150e12-e807-4e97-d778-65f88459d72a"
      },
      "execution_count": 13,
      "outputs": [
        {
          "output_type": "execute_result",
          "data": {
            "text/plain": [
              "\"Some tips for effectively managing your spending and avoiding debt with your new credit card are:\\n1. Set a budget and stick to it: Before using your credit card, create a budget for your monthly expenses and make sure to stay within that budget. This will help you avoid overspending and accumulating debt.\\n2. Use your credit card for necessary expenses only: Avoid using your credit card for impulse purchases or non-essential items. Stick to using it for necessary expenses such as groceries, gas, and bills.\\n3. Pay your balance in full each month: Make it a goal to pay off your full credit card balance each month. This will help you avoid paying interest and accumulating debt.\\n4. Monitor your spending: Keep track of your credit card transactions and regularly check your credit card statement. This will help you stay aware of your spending and identify any unauthorized charges.\\n5. Avoid cash advances: Cash advances come with high interest rates and fees, so try to avoid using your credit card for cash withdrawals.\\n6. Don't share your credit card information: Keep your credit card information private and don't share it with anyone. This will help prevent any unauthorized charges on your card.\\n7. Stay within your credit limit: Make sure to stay within your credit limit to avoid overusing\""
            ],
            "application/vnd.google.colaboratory.intrinsic+json": {
              "type": "string"
            }
          },
          "metadata": {},
          "execution_count": 13
        }
      ]
    },
    {
      "cell_type": "code",
      "source": [
        "query = \"How does using a credit card responsibly help me build my credit score, and what should I do to maintain a good standing?\"\n",
        "qa.run(query)"
      ],
      "metadata": {
        "colab": {
          "base_uri": "https://localhost:8080/",
          "height": 87
        },
        "id": "s8RACbrBCOvs",
        "outputId": "e94b98e8-333a-43dc-d65c-5f9cb2222abc"
      },
      "execution_count": 14,
      "outputs": [
        {
          "output_type": "execute_result",
          "data": {
            "text/plain": [
              "\" Using a credit card responsibly can help you build your credit score because it shows lenders that you are able to manage credit effectively. To maintain a good standing, make sure to pay your credit card bill on time and in full each month, keep your credit utilization low, and only use credit for necessary purchases. It's also important to regularly check your credit report for any errors or fraudulent activity.\""
            ],
            "application/vnd.google.colaboratory.intrinsic+json": {
              "type": "string"
            }
          },
          "metadata": {},
          "execution_count": 14
        }
      ]
    },
    {
      "cell_type": "code",
      "source": [
        "query = \"What fees and interest rates should I be aware of with my first credit card, and how can I minimize them?\"\n",
        "qa.run(query)"
      ],
      "metadata": {
        "colab": {
          "base_uri": "https://localhost:8080/",
          "height": 122
        },
        "id": "SVpkWIpu9blS",
        "outputId": "8937b23f-78cd-4cc8-e9fd-708ac26debe7"
      },
      "execution_count": 15,
      "outputs": [
        {
          "output_type": "execute_result",
          "data": {
            "text/plain": [
              "\" When getting your first credit card, it's important to understand the fees and interest rates associated with it. Some fees to be aware of include an annual fee, which is charged every year for having the card, and a late payment fee if you miss a payment. Interest rates, or APR, will also be charged on any balance you carry over from month to month. To minimize these fees and rates, make sure to pay your balance in full and on time every month. You can also look for a card with no annual fee and a low interest rate. It's important to read and understand all terms and fees associated with your credit card before applying.\""
            ],
            "application/vnd.google.colaboratory.intrinsic+json": {
              "type": "string"
            }
          },
          "metadata": {},
          "execution_count": 15
        }
      ]
    }
  ]
}